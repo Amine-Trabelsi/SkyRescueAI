{
 "cells": [
  {
   "cell_type": "markdown",
   "id": "bb14bb807448f84e",
   "metadata": {},
   "source": [
    "# Data preparation"
   ]
  },
  {
   "cell_type": "code",
   "execution_count": null,
   "id": "849ba9c16dc9e024",
   "metadata": {},
   "outputs": [],
   "source": [
    "from pathlib import Path\n",
    "\n",
    "_ = \"\"\"\n",
    "path: /home/robo/resciu-dataset/files # dataset root dir\n",
    "train: train/images # train images (relative to 'path')\n",
    "val: evaluation_dataset/images # val images (relative to 'path')\n",
    "\n",
    "# Classes\n",
    "names:\n",
    "  0: people\n",
    "\"\"\"\n",
    "\n",
    "data_path = Path(\"aerovision.yaml\")\n",
    "\n",
    "with open(data_path, \"w\") as file:\n",
    "    file.write(_)"
   ]
  },
  {
   "cell_type": "markdown",
   "id": "bfd40d51b27a560e",
   "metadata": {},
   "source": [
    "# Training"
   ]
  },
  {
   "cell_type": "code",
   "execution_count": null,
   "id": "14fe5ca4df3df779",
   "metadata": {
    "ExecuteTime": {
     "end_time": "2024-10-26T12:19:33.813439Z",
     "start_time": "2024-10-26T12:19:30.362912Z"
    }
   },
   "outputs": [],
   "source": [
    "from datetime import datetime\n",
    "from ultralytics import YOLO\n",
    "from wandb.integration.ultralytics import add_wandb_callback\n",
    "\n",
    "today = datetime.now().strftime(\"%Y-%m-%d %H:%M\")\n",
    "\n",
    "model = YOLO(model=\"yolo11m.pt\", task=\"detect\")\n",
    "\n",
    "add_wandb_callback(\n",
    "    model,\n",
    "    enable_model_checkpointing=True,\n",
    "    enable_train_validation_logging=False,\n",
    "    enable_validation_logging=False,\n",
    "    enable_prediction_logging=False,\n",
    ");"
   ]
  },
  {
   "cell_type": "code",
   "execution_count": null,
   "id": "b7e21b261604d423",
   "metadata": {
    "ExecuteTime": {
     "end_time": "2024-10-26T12:19:36.265272Z",
     "start_time": "2024-10-26T12:19:35.294004Z"
    }
   },
   "outputs": [],
   "source": [
    "import wandb\n",
    "\n",
    "wandb.login()"
   ]
  },
  {
   "cell_type": "code",
   "execution_count": null,
   "id": "3bcfe74471fc671b",
   "metadata": {
    "ExecuteTime": {
     "start_time": "2024-10-26T12:19:39.323909Z"
    },
    "jupyter": {
     "is_executing": true
    }
   },
   "outputs": [],
   "source": [
    "with wandb.init(\n",
    "        entity=\"rescIU\",\n",
    "        project=\"PART1\",\n",
    "        name=f\"yolo11 {today}\",\n",
    "        notes=\"YOLO11m on Aerovision, disable mosaic\",\n",
    "        job_type=\"training\",\n",
    "        tags=[\"aerovision\", \"yolo11m\"],\n",
    "        reinit=True,\n",
    ") as run:\n",
    "    # https://docs.ultralytics.com/modes/train/#train-settings\n",
    "    results = model.train(\n",
    "        project=run.project,\n",
    "        name=run.name,\n",
    "        data=\"aerovision.yaml\",\n",
    "        batch=25,\n",
    "        cos_lr=True,\n",
    "        mosaic=0.0,\n",
    "        flipud=0.5,\n",
    "        fliplr=0.5,\n",
    "        epochs=400,\n",
    "    )"
   ]
  },
  {
   "cell_type": "markdown",
   "id": "ff5cc1c3f5cf90b3",
   "metadata": {},
   "source": [
    "# Evaluation"
   ]
  },
  {
   "cell_type": "code",
   "execution_count": null,
   "id": "306001f5c6898fc5",
   "metadata": {},
   "outputs": [],
   "source": [
    "import pandas as pd\n",
    "\n",
    "\n",
    "# Function to run validation for a specific image size and return metrics\n",
    "def get_val_metrics(img_size, batch=8):\n",
    "    _val_results = model.val(data=\"aerovision.yaml\", batch=batch, imgsz=img_size, verbose=False)\n",
    "    _metrics = {\n",
    "        \"Inference Size\": f\"{size}px\",\n",
    "        # \"P\": _val_results.box.map50,\n",
    "        # \"R\": _val_results.box.map,\n",
    "        \"mAP50-95\": _val_results.box.map,\n",
    "        \"mAP50\": _val_results.box.map50,\n",
    "        \"Preprocess Time (ms)\": _val_results.speed[\"preprocess\"],  # Preprocessing time\n",
    "        \"Inference Time (ms)\": _val_results.speed[\"inference\"],  # Inference time\n",
    "        \"Postprocess Time (ms)\": _val_results.speed[\"postprocess\"]  # Postprocessing time\n",
    "    }\n",
    "    return _metrics\n",
    "\n",
    "\n",
    "# List of image sizes to test\n",
    "image_sizes = [640, 1280, 2016]\n",
    "\n",
    "# Collect metrics for each image size\n",
    "val_results = []\n",
    "for size in image_sizes:\n",
    "    metrics = get_val_metrics(size)\n",
    "    val_results.append(metrics)\n",
    "\n",
    "# Create DataFrame from results\n",
    "df = pd.DataFrame(val_results)\n",
    "df"
   ]
  }
 ],
 "metadata": {
  "kernelspec": {
   "display_name": "Python 3",
   "language": "python",
   "name": "python3"
  },
  "language_info": {
   "codemirror_mode": {
    "name": "ipython",
    "version": 2
   },
   "file_extension": ".py",
   "mimetype": "text/x-python",
   "name": "python",
   "nbconvert_exporter": "python",
   "pygments_lexer": "ipython2",
   "version": "2.7.6"
  }
 },
 "nbformat": 4,
 "nbformat_minor": 5
}
